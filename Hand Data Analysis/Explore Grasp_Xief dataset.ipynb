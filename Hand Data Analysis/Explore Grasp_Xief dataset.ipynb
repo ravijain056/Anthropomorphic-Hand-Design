{
 "cells": [
  {
   "cell_type": "markdown",
   "metadata": {},
   "source": [
    "This notebook contains exploratory code for [Human Grasping dataset](http://grasp.xief.net/) and further analysis following the paper [\"Extracting Postural Synergies for Robotic Grasping\"](https://citeseerx.ist.psu.edu/viewdoc/download?doi=10.1.1.590.3511&rep=rep1&type=pdf).\n",
    "\n",
    "HTML of the notebook has been provided together with the notebook for better viewing on notebook. Recommend actually running the notebook for better interactive visualisation. Also use the notebook with Collapsible Heading (jupyter_nbextensions) for better viewing."
   ]
  },
  {
   "cell_type": "markdown",
   "metadata": {
    "heading_collapsed": true
   },
   "source": [
    "### Imports and Defaults"
   ]
  },
  {
   "cell_type": "code",
   "execution_count": null,
   "metadata": {
    "hidden": true
   },
   "outputs": [],
   "source": [
    "import matplotlib.pyplot as plt\n",
    "import numpy as np\n",
    "from mpl_toolkits.mplot3d import axes3d as p3\n",
    "import matplotlib.animation as animation"
   ]
  },
  {
   "cell_type": "code",
   "execution_count": null,
   "metadata": {
    "hidden": true
   },
   "outputs": [],
   "source": [
    "from pyquaternion import Quaternion"
   ]
  },
  {
   "cell_type": "code",
   "execution_count": null,
   "metadata": {
    "hidden": true
   },
   "outputs": [],
   "source": [
    "from pathlib import Path\n",
    "from scipy.io import loadmat"
   ]
  },
  {
   "cell_type": "code",
   "execution_count": null,
   "metadata": {
    "hidden": true
   },
   "outputs": [],
   "source": [
    "data_path = Path('data')"
   ]
  },
  {
   "cell_type": "code",
   "execution_count": null,
   "metadata": {
    "hidden": true
   },
   "outputs": [],
   "source": [
    "list(data_path.iterdir())"
   ]
  },
  {
   "cell_type": "code",
   "execution_count": null,
   "metadata": {
    "hidden": true
   },
   "outputs": [],
   "source": [
    "annots = loadmat(data_path/'coordinates600_quat.mat')"
   ]
  },
  {
   "cell_type": "markdown",
   "metadata": {
    "heading_collapsed": true
   },
   "source": [
    "## Explore data"
   ]
  },
  {
   "cell_type": "code",
   "execution_count": null,
   "metadata": {
    "hidden": true
   },
   "outputs": [],
   "source": [
    "annots.keys()"
   ]
  },
  {
   "cell_type": "code",
   "execution_count": null,
   "metadata": {
    "hidden": true
   },
   "outputs": [],
   "source": [
    "annots['__header__']"
   ]
  },
  {
   "cell_type": "code",
   "execution_count": null,
   "metadata": {
    "hidden": true
   },
   "outputs": [],
   "source": [
    "annots['__version__']"
   ]
  },
  {
   "cell_type": "code",
   "execution_count": null,
   "metadata": {
    "hidden": true
   },
   "outputs": [],
   "source": [
    "annots['__globals__']"
   ]
  },
  {
   "cell_type": "code",
   "execution_count": null,
   "metadata": {
    "hidden": true
   },
   "outputs": [],
   "source": [
    "gdata = annots['coordinates']; gdata.shape"
   ]
  },
  {
   "attachments": {
    "image.png": {
     "image/png": "[encoded data removed]"
    }
   },
   "cell_type": "markdown",
   "metadata": {
    "hidden": true
   },
   "source": [
    "- 5 subjects\n",
    "- 2 trials\n",
    "- 31 grasp types\n",
    "- 600 samples\n",
    "- 35 quarternions (rotation matrix). Index - Thumb - Wrist(Presetn in raw) - Middle - Ring - Little. 7 each.\n",
    "![image.png](attachment:image.png)"
   ]
  },
  {
   "cell_type": "code",
   "execution_count": null,
   "metadata": {
    "hidden": true
   },
   "outputs": [],
   "source": [
    "datapt = gdata[0][0][0][0]; datapt.shape"
   ]
  },
  {
   "cell_type": "code",
   "execution_count": null,
   "metadata": {
    "hidden": true
   },
   "outputs": [],
   "source": [
    "index_datapt = datapt[:7]; index_datapt"
   ]
  },
  {
   "cell_type": "markdown",
   "metadata": {},
   "source": [
    "## Visualize data"
   ]
  },
  {
   "cell_type": "markdown",
   "metadata": {
    "heading_collapsed": true
   },
   "source": [
    "### Single Element"
   ]
  },
  {
   "cell_type": "code",
   "execution_count": null,
   "metadata": {
    "hidden": true
   },
   "outputs": [],
   "source": [
    "d = gdata[0][0][0][0][:7]"
   ]
  },
  {
   "cell_type": "code",
   "execution_count": null,
   "metadata": {
    "hidden": true
   },
   "outputs": [],
   "source": [
    "q = Quaternion(gdata[0][0][0][0][3:7]); q"
   ]
  },
  {
   "cell_type": "code",
   "execution_count": null,
   "metadata": {
    "hidden": true
   },
   "outputs": [],
   "source": [
    "q.rotate([1, 0, 0])"
   ]
  },
  {
   "cell_type": "code",
   "execution_count": null,
   "metadata": {
    "hidden": true
   },
   "outputs": [],
   "source": [
    "x, y, z = d[0], d[1], d[2]\n",
    "u, v, w = q.rotate([1, 0, 0])"
   ]
  },
  {
   "cell_type": "code",
   "execution_count": null,
   "metadata": {
    "hidden": true
   },
   "outputs": [],
   "source": [
    "soa = np.array([[0, 0, 0, 1, 0, 0], [0, 0, 0, 0, 1, 0]])\n",
    "\n",
    "X, Y, Z, U, V, W = zip(*soa)\n",
    "fig = plt.figure()\n",
    "ax = fig.add_subplot(111, projection='3d')\n",
    "ax.quiver(X, Y, Z, U, V, W)\n",
    "ax.set_xlim([-1, 1])\n",
    "ax.set_ylim([-1, 1])\n",
    "ax.set_zlim([-1, 1])\n",
    "plt.show()"
   ]
  },
  {
   "cell_type": "code",
   "execution_count": null,
   "metadata": {
    "hidden": true
   },
   "outputs": [],
   "source": [
    "fig = plt.figure()\n",
    "ax = fig.add_subplot(111, projection='3d')\n",
    "ax.quiver(x, y, z, u, v, w)\n",
    "plt.show()"
   ]
  },
  {
   "cell_type": "markdown",
   "metadata": {},
   "source": [
    "### Motion visualisatoin"
   ]
  },
  {
   "cell_type": "code",
   "execution_count": null,
   "metadata": {},
   "outputs": [],
   "source": [
    "%matplotlib widget"
   ]
  },
  {
   "cell_type": "code",
   "execution_count": null,
   "metadata": {},
   "outputs": [],
   "source": [
    "d = gdata[0][0][0]; d.shape"
   ]
  },
  {
   "cell_type": "code",
   "execution_count": null,
   "metadata": {},
   "outputs": [],
   "source": [
    "fig = plt.figure(figsize = (6, 6))\n",
    "ax = fig.gca(projection='3d')\n",
    "label = ['index', 'thumb', 'middle', 'ring', 'little']\n",
    "color = ['red', 'green', 'blue', 'yellow', 'aqua']\n",
    "for i in range(5):\n",
    "    x, y, z = d[:, 7*i], d[:, 7*i+1], d[:, 7*i+2]\n",
    "    ax.scatter(x, y, z, label = label[i], color = color[i])\n",
    "ax.legend()\n",
    "plt.show()"
   ]
  },
  {
   "cell_type": "code",
   "execution_count": null,
   "metadata": {},
   "outputs": [],
   "source": [
    "%matplotlib widget\n",
    "def update_graph(num):\n",
    "    for i, g in enumerate(graph):\n",
    "        g._offsets3d = (data[i, 0, :num], data[i, 1, :num], data[i, 2, :num])\n",
    "    title.set_text('3D Test, time={}'.format(num))\n",
    "\n",
    "label = ['index', 'thumb', 'middle', 'ring', 'little']\n",
    "color = ['red', 'green', 'blue', 'yellow', 'aqua']\n",
    "    \n",
    "fig = plt.figure(figsize = (6,6))\n",
    "ax = fig.add_subplot(111, projection='3d')\n",
    "title = ax.set_title('3D Test')\n",
    "\n",
    "data = gdata[0][0][0].T.reshape((5, 7, 600))\n",
    "graph = [ax.scatter(d[0, :1], d[1, :1], d[2, :1], color=color[i], label=label[i]) for i, d in enumerate(data)]\n",
    "\n",
    "ax.set_xlim3d([-10.0, 10.0])\n",
    "ax.set_xlabel('X')\n",
    "\n",
    "ax.set_ylim3d([-6.0, 10.0])\n",
    "ax.set_ylabel('Y')\n",
    "\n",
    "ax.set_zlim3d([3.0, 12.0])\n",
    "ax.set_zlabel('Z')\n",
    "\n",
    "ax.set_title('Movment visualisation')\n",
    "ax.legend()\n",
    "\n",
    "ani = animation.FuncAnimation(fig, update_graph, 600, \n",
    "                               interval=10, blit=False)\n",
    "\n",
    "plt.show()"
   ]
  },
  {
   "cell_type": "code",
   "execution_count": null,
   "metadata": {},
   "outputs": [],
   "source": [
    "ani.event_source.stop()\n",
    "plt.close()"
   ]
  },
  {
   "cell_type": "code",
   "execution_count": null,
   "metadata": {},
   "outputs": [],
   "source": [
    "def update_graph(num):\n",
    "    global graph\n",
    "    for g in graph:\n",
    "        g.remove()\n",
    "\n",
    "    graph = [ax.quiver(x[i, num-1], y[i, num-1], z[i, num-1], *orient[i, :, num-1], color=color[i], label=label[i]) for i in range(5)]\n",
    "\n",
    "    title.set_text('3D Test, time={}'.format(num))\n",
    "\n",
    "label = ['index', 'thumb', 'middle', 'ring', 'little']\n",
    "color = ['red', 'green', 'blue', 'orange', 'aqua']\n",
    "\n",
    "fig = plt.figure(figsize = (6,6))\n",
    "ax = fig.add_subplot(111, projection='3d')\n",
    "title = ax.set_title('3D Test')\n",
    "\n",
    "def display(subject, trial, grasp_type):\n",
    "    global x, y, z, orient\n",
    "    data = gdata[subject][trial][grasp_type].reshape((600, 5, 7))\n",
    "    x = data[:, :, 0].T\n",
    "    y = data[:, :, 1].T\n",
    "    z = data[:, :, 2].T\n",
    "    orient = np.array(([[Quaternion(d[3:]).rotate([0, 0, 2]) for d in da] for da in data]))\n",
    "    orient = orient.transpose(1, 2, 0)\n",
    "\n",
    "display(0, 0, 0)\n",
    "\n",
    "graph = [ax.quiver(x[i, 0], y[i, 0], z[i, 0], *orient[i, :, 0], color=color[i], label=label[i]) for i in range(5)]\n",
    "\n",
    "ax.set_xlim3d([-10.0, 10.0])\n",
    "ax.set_xlabel('X')\n",
    "\n",
    "ax.set_ylim3d([-6.0, 10.0])\n",
    "ax.set_ylabel('Y')\n",
    "\n",
    "ax.set_zlim3d([3.0, 12.0])\n",
    "ax.set_zlabel('Z')\n",
    "\n",
    "ax.set_title('Movment visualisation')\n",
    "ax.legend()\n",
    "\n",
    "ani = animation.FuncAnimation(fig, update_graph, 600, \n",
    "                               interval=10, blit=False)\n",
    "\n",
    "plt.show()"
   ]
  },
  {
   "cell_type": "code",
   "execution_count": null,
   "metadata": {},
   "outputs": [],
   "source": [
    "display(1, 0, 29)"
   ]
  },
  {
   "cell_type": "markdown",
   "metadata": {},
   "source": [
    "(subjects, trials, grasp types)\n",
    "- 5 subjects(0-4)\n",
    "- 2 trials(0-1)\n",
    "- 30 grasp types(http://grasp.xief.net/documents/taxonomy.pdf) (Not present: -Distal type(19) -Tripod Variation(21))"
   ]
  },
  {
   "cell_type": "code",
   "execution_count": null,
   "metadata": {},
   "outputs": [],
   "source": [
    "ani.event_source.stop()\n",
    "plt.close()"
   ]
  },
  {
   "cell_type": "markdown",
   "metadata": {},
   "source": [
    "## Telescopic arm and gripper"
   ]
  },
  {
   "cell_type": "code",
   "execution_count": null,
   "metadata": {},
   "outputs": [],
   "source": [
    "import numpy as np\n",
    "import math"
   ]
  },
  {
   "cell_type": "code",
   "execution_count": null,
   "metadata": {},
   "outputs": [],
   "source": [
    "%matplotlib inline"
   ]
  },
  {
   "cell_type": "code",
   "execution_count": null,
   "metadata": {},
   "outputs": [],
   "source": [
    "samples = 100\n",
    "noisefactor = 100 #increase to decrease noise"
   ]
  },
  {
   "cell_type": "code",
   "execution_count": null,
   "metadata": {},
   "outputs": [],
   "source": [
    "for _ in range(10):\n",
    "    X = np.array(range(0, samples)) / samples / 10\n",
    "    eps0, eps1 = np.random.randn(samples)/noisefactor, np.random.randn(samples)/noisefactor\n",
    "    Y = np.array([eps1[i] + math.pow(.1-X[i], (1/3) + eps0[i]) for i  in range(samples)])\n",
    "    plt.plot(X, Y)\n",
    "plt.show()"
   ]
  },
  {
   "cell_type": "markdown",
   "metadata": {},
   "source": [
    "## PCA Analysis"
   ]
  },
  {
   "cell_type": "code",
   "execution_count": null,
   "metadata": {},
   "outputs": [],
   "source": [
    "train_data, test_data = gdata[:, 0], gdata[:, 1]"
   ]
  },
  {
   "cell_type": "code",
   "execution_count": null,
   "metadata": {},
   "outputs": [],
   "source": [
    "dt = train_data.reshape((-1, 35))\n",
    "dy = test_data.reshape((-1, 35))"
   ]
  },
  {
   "cell_type": "code",
   "execution_count": null,
   "metadata": {},
   "outputs": [],
   "source": [
    "dt.shape"
   ]
  },
  {
   "cell_type": "code",
   "execution_count": null,
   "metadata": {},
   "outputs": [],
   "source": [
    "from sklearn.decomposition import PCA"
   ]
  },
  {
   "cell_type": "code",
   "execution_count": null,
   "metadata": {},
   "outputs": [],
   "source": [
    "pca = PCA()"
   ]
  },
  {
   "cell_type": "code",
   "execution_count": null,
   "metadata": {},
   "outputs": [],
   "source": [
    "pca.fit(dt)"
   ]
  },
  {
   "cell_type": "code",
   "execution_count": null,
   "metadata": {},
   "outputs": [],
   "source": [
    "pca.explained_variance_ratio_"
   ]
  },
  {
   "cell_type": "code",
   "execution_count": null,
   "metadata": {},
   "outputs": [],
   "source": [
    "pca.singular_values_"
   ]
  },
  {
   "cell_type": "code",
   "execution_count": null,
   "metadata": {},
   "outputs": [],
   "source": [
    "x_dt = pca.transform(dt)\n",
    "ix_dt = pca.inverse_transform(x_dt)"
   ]
  },
  {
   "cell_type": "code",
   "execution_count": null,
   "metadata": {},
   "outputs": [],
   "source": [
    "dt"
   ]
  },
  {
   "cell_type": "code",
   "execution_count": null,
   "metadata": {},
   "outputs": [],
   "source": [
    "ix_dt"
   ]
  },
  {
   "cell_type": "code",
   "execution_count": null,
   "metadata": {},
   "outputs": [],
   "source": [
    "pca = PCA(n_components=2)"
   ]
  },
  {
   "cell_type": "code",
   "execution_count": null,
   "metadata": {},
   "outputs": [],
   "source": [
    "pca.fit(dt)"
   ]
  },
  {
   "cell_type": "code",
   "execution_count": null,
   "metadata": {},
   "outputs": [],
   "source": [
    "x_dt = pca.transform(dt)\n",
    "ix_dt = pca.inverse_transform(x_dt)"
   ]
  },
  {
   "cell_type": "code",
   "execution_count": null,
   "metadata": {},
   "outputs": [],
   "source": [
    "dt"
   ]
  },
  {
   "cell_type": "code",
   "execution_count": null,
   "metadata": {},
   "outputs": [],
   "source": [
    "ix_dt"
   ]
  },
  {
   "cell_type": "code",
   "execution_count": null,
   "metadata": {},
   "outputs": [],
   "source": [
    "%matplotlib inline"
   ]
  },
  {
   "cell_type": "code",
   "execution_count": null,
   "metadata": {},
   "outputs": [],
   "source": [
    "plt.scatter(x_dt[:, 0], x_dt[:, 1], s = .1)"
   ]
  },
  {
   "cell_type": "code",
   "execution_count": null,
   "metadata": {},
   "outputs": [],
   "source": [
    "x_dt.shape"
   ]
  },
  {
   "cell_type": "code",
   "execution_count": null,
   "metadata": {},
   "outputs": [],
   "source": [
    "trial4 = test_data[:, 3]"
   ]
  },
  {
   "cell_type": "code",
   "execution_count": null,
   "metadata": {},
   "outputs": [],
   "source": [
    "x_trial4 = pca.transform(trial4.reshape(-1, 35)).reshape(5, 600, 2)"
   ]
  },
  {
   "cell_type": "code",
   "execution_count": null,
   "metadata": {},
   "outputs": [],
   "source": [
    "from matplotlib.pyplot import cm"
   ]
  },
  {
   "cell_type": "code",
   "execution_count": null,
   "metadata": {},
   "outputs": [],
   "source": [
    "color=cm.rainbow(np.linspace(0,1,5))"
   ]
  },
  {
   "cell_type": "code",
   "execution_count": null,
   "metadata": {},
   "outputs": [],
   "source": [
    "for i in range(5): \n",
    "    plt.plot(x_trial4[i , :, 0], x_trial4[i , :, 1], color=color[i], label=i)\n",
    "    plt.scatter(x_trial4[i , 0, 0], x_trial4[i , 0, 1], color=color[i])\n",
    "    plt.scatter(x_trial4[i , -1, 0], x_trial4[i , -1, 1], color=color[i], marker='s')\n",
    "plt.legend()"
   ]
  },
  {
   "cell_type": "code",
   "execution_count": null,
   "metadata": {},
   "outputs": [],
   "source": [
    "plt.scatter(x_dt[:, 0], x_dt[:, 1], s = .001)\n",
    "for i in range(5): \n",
    "    plt.plot(x_trial4[i , :, 0], x_trial4[i , :, 1], label=i)\n",
    "plt.legend()"
   ]
  },
  {
   "cell_type": "code",
   "execution_count": null,
   "metadata": {},
   "outputs": [],
   "source": []
  }
 ],
 "metadata": {
  "kernelspec": {
   "display_name": "Python 3",
   "language": "python",
   "name": "python3"
  },
  "language_info": {
   "codemirror_mode": {
    "name": "ipython",
    "version": 3
   },
   "file_extension": ".py",
   "mimetype": "text/x-python",
   "name": "python",
   "nbconvert_exporter": "python",
   "pygments_lexer": "ipython3",
   "version": "3.7.6"
  }
 },
 "nbformat": 4,
 "nbformat_minor": 4
}
